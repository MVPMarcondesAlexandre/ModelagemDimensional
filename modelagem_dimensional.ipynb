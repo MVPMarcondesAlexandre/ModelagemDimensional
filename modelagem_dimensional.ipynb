{
 "cells": [
  {
   "cell_type": "code",
   "execution_count": 2,
   "metadata": {
    "collapsed": true
   },
   "outputs": [],
   "source": [
    "# packages\n",
    "import pandas as pd\n",
    "import os"
   ]
  },
  {
   "cell_type": "code",
   "execution_count": 3,
   "metadata": {
    "collapsed": false
   },
   "outputs": [
    {
     "data": {
      "text/plain": [
       "['.ipynb_checkpoints',\n",
       " '201701_BolsaFamiliaFolhaPagamento.csv',\n",
       " '201801_OutrasTransferenciasCidadao.csv',\n",
       " 'AtividadeFixaçãoFinal.pdf',\n",
       " 'aula02.pdf',\n",
       " 'aula3.pdf',\n",
       " 'Dissertacao Eduardo Dieter.pdf',\n",
       " 'IndicadoresdeGestao_EstudodeCaso.pdf',\n",
       " 'Lab1_Pentaho_analysis_mondrian.pdf',\n",
       " 'Lab2_Pentaho_PME(extra).pdf',\n",
       " 'modelagem_dimensional.ipynb',\n",
       " 'Trabalho_final.pdf']"
      ]
     },
     "execution_count": 3,
     "metadata": {},
     "output_type": "execute_result"
    }
   ],
   "source": [
    "os.listdir()"
   ]
  },
  {
   "cell_type": "code",
   "execution_count": 67,
   "metadata": {
    "collapsed": false
   },
   "outputs": [],
   "source": [
    "# reading just 100000 rows the dataframe \n",
    "df = pd.read_csv('Data/201701_BolsaFamiliaFolhaPagamento.csv', encoding = \"ISO-8859-1\", error_bad_lines=False, sep='\\t', nrows=100000)"
   ]
  },
  {
   "cell_type": "code",
   "execution_count": 68,
   "metadata": {
    "collapsed": false
   },
   "outputs": [
    {
     "data": {
      "text/plain": [
       "(100000, 12)"
      ]
     },
     "execution_count": 68,
     "metadata": {},
     "output_type": "execute_result"
    }
   ],
   "source": [
    "df.shape"
   ]
  },
  {
   "cell_type": "code",
   "execution_count": 69,
   "metadata": {
    "collapsed": false
   },
   "outputs": [
    {
     "name": "stdout",
     "output_type": "stream",
     "text": [
      "<class 'pandas.core.frame.DataFrame'>\n",
      "RangeIndex: 100000 entries, 0 to 99999\n",
      "Data columns (total 12 columns):\n",
      "UF                        100000 non-null object\n",
      "Código SIAFI Município    100000 non-null int64\n",
      "Nome Município            100000 non-null object\n",
      "Código Função             100000 non-null int64\n",
      "Código Subfunção          100000 non-null int64\n",
      "Código Programa           100000 non-null int64\n",
      "Código Ação               100000 non-null int64\n",
      "NIS Favorecido            100000 non-null int64\n",
      "Nome Favorecido           100000 non-null object\n",
      "Fonte-Finalidade          100000 non-null object\n",
      "Valor Parcela             100000 non-null object\n",
      "Mês Competência           100000 non-null object\n",
      "dtypes: int64(6), object(6)\n",
      "memory usage: 9.2+ MB\n"
     ]
    }
   ],
   "source": [
    "df.info()"
   ]
  },
  {
   "cell_type": "code",
   "execution_count": 70,
   "metadata": {
    "collapsed": false
   },
   "outputs": [
    {
     "data": {
      "text/html": [
       "<div>\n",
       "<table border=\"1\" class=\"dataframe\">\n",
       "  <thead>\n",
       "    <tr style=\"text-align: right;\">\n",
       "      <th></th>\n",
       "      <th>UF</th>\n",
       "      <th>Código SIAFI Município</th>\n",
       "      <th>Nome Município</th>\n",
       "      <th>Código Função</th>\n",
       "      <th>Código Subfunção</th>\n",
       "      <th>Código Programa</th>\n",
       "      <th>Código Ação</th>\n",
       "      <th>NIS Favorecido</th>\n",
       "      <th>Nome Favorecido</th>\n",
       "      <th>Fonte-Finalidade</th>\n",
       "      <th>Valor Parcela</th>\n",
       "      <th>Mês Competência</th>\n",
       "    </tr>\n",
       "  </thead>\n",
       "  <tbody>\n",
       "    <tr>\n",
       "      <th>0</th>\n",
       "      <td>BA</td>\n",
       "      <td>3389</td>\n",
       "      <td>BROTAS DE MACAUBAS</td>\n",
       "      <td>8</td>\n",
       "      <td>244</td>\n",
       "      <td>1335</td>\n",
       "      <td>8442</td>\n",
       "      <td>16074176737</td>\n",
       "      <td>FLAVIANO SEBASTIAO DOS SANTOS</td>\n",
       "      <td>CAIXA - Programa Bolsa Família</td>\n",
       "      <td>131.00</td>\n",
       "      <td>01/2017</td>\n",
       "    </tr>\n",
       "    <tr>\n",
       "      <th>1</th>\n",
       "      <td>PE</td>\n",
       "      <td>2531</td>\n",
       "      <td>RECIFE</td>\n",
       "      <td>8</td>\n",
       "      <td>244</td>\n",
       "      <td>1335</td>\n",
       "      <td>8442</td>\n",
       "      <td>20033347012</td>\n",
       "      <td>ELANE PATRICIA DA SILVA DAMASIO NUNES</td>\n",
       "      <td>CAIXA - Programa Bolsa Família</td>\n",
       "      <td>170.00</td>\n",
       "      <td>01/2017</td>\n",
       "    </tr>\n",
       "    <tr>\n",
       "      <th>2</th>\n",
       "      <td>SP</td>\n",
       "      <td>6291</td>\n",
       "      <td>CAMPINAS</td>\n",
       "      <td>8</td>\n",
       "      <td>244</td>\n",
       "      <td>1335</td>\n",
       "      <td>8442</td>\n",
       "      <td>13287063897</td>\n",
       "      <td>ANGELA APARECIDA SERAFIM</td>\n",
       "      <td>CAIXA - Programa Bolsa Família</td>\n",
       "      <td>202.00</td>\n",
       "      <td>01/2017</td>\n",
       "    </tr>\n",
       "    <tr>\n",
       "      <th>3</th>\n",
       "      <td>PI</td>\n",
       "      <td>1167</td>\n",
       "      <td>PIRIPIRI</td>\n",
       "      <td>8</td>\n",
       "      <td>244</td>\n",
       "      <td>1335</td>\n",
       "      <td>8442</td>\n",
       "      <td>16356178516</td>\n",
       "      <td>LUIZA FLORINDA DA SILVA</td>\n",
       "      <td>CAIXA - Programa Bolsa Família</td>\n",
       "      <td>85.00</td>\n",
       "      <td>01/2017</td>\n",
       "    </tr>\n",
       "    <tr>\n",
       "      <th>4</th>\n",
       "      <td>MA</td>\n",
       "      <td>755</td>\n",
       "      <td>CARUTAPERA</td>\n",
       "      <td>8</td>\n",
       "      <td>244</td>\n",
       "      <td>1335</td>\n",
       "      <td>8442</td>\n",
       "      <td>16099396730</td>\n",
       "      <td>EDNA MARIA FERREIRA PINHEIRO</td>\n",
       "      <td>CAIXA - Programa Bolsa Família</td>\n",
       "      <td>85.00</td>\n",
       "      <td>01/2017</td>\n",
       "    </tr>\n",
       "    <tr>\n",
       "      <th>5</th>\n",
       "      <td>PE</td>\n",
       "      <td>2389</td>\n",
       "      <td>CHA GRANDE</td>\n",
       "      <td>8</td>\n",
       "      <td>244</td>\n",
       "      <td>1335</td>\n",
       "      <td>8442</td>\n",
       "      <td>16027702517</td>\n",
       "      <td>ANA MARIA DA SILVA</td>\n",
       "      <td>CAIXA - Programa Bolsa Família</td>\n",
       "      <td>124.00</td>\n",
       "      <td>01/2017</td>\n",
       "    </tr>\n",
       "    <tr>\n",
       "      <th>6</th>\n",
       "      <td>BA</td>\n",
       "      <td>3765</td>\n",
       "      <td>OLIVEIRA DOS BREJINHOS</td>\n",
       "      <td>8</td>\n",
       "      <td>244</td>\n",
       "      <td>1335</td>\n",
       "      <td>8442</td>\n",
       "      <td>23672637749</td>\n",
       "      <td>IVANILSON DOS SANTOS MACHADO</td>\n",
       "      <td>CAIXA - Programa Bolsa Família</td>\n",
       "      <td>85.00</td>\n",
       "      <td>01/2017</td>\n",
       "    </tr>\n",
       "    <tr>\n",
       "      <th>7</th>\n",
       "      <td>CE</td>\n",
       "      <td>1585</td>\n",
       "      <td>MARACANAU</td>\n",
       "      <td>8</td>\n",
       "      <td>244</td>\n",
       "      <td>1335</td>\n",
       "      <td>8442</td>\n",
       "      <td>16390347554</td>\n",
       "      <td>MARIA DO SOCORRO ALVES DA SILVA</td>\n",
       "      <td>CAIXA - Programa Bolsa Família</td>\n",
       "      <td>124.00</td>\n",
       "      <td>01/2017</td>\n",
       "    </tr>\n",
       "    <tr>\n",
       "      <th>8</th>\n",
       "      <td>SE</td>\n",
       "      <td>3191</td>\n",
       "      <td>NOSSA SENHORA DAS DORES</td>\n",
       "      <td>8</td>\n",
       "      <td>244</td>\n",
       "      <td>1335</td>\n",
       "      <td>8442</td>\n",
       "      <td>20947248433</td>\n",
       "      <td>MARIA JOSINETE DOS SANTOS</td>\n",
       "      <td>CAIXA - Programa Bolsa Família</td>\n",
       "      <td>163.00</td>\n",
       "      <td>01/2017</td>\n",
       "    </tr>\n",
       "    <tr>\n",
       "      <th>9</th>\n",
       "      <td>BA</td>\n",
       "      <td>3495</td>\n",
       "      <td>CRUZ DAS ALMAS</td>\n",
       "      <td>8</td>\n",
       "      <td>244</td>\n",
       "      <td>1335</td>\n",
       "      <td>8442</td>\n",
       "      <td>12461489000</td>\n",
       "      <td>JOSEILZA SOUZA</td>\n",
       "      <td>CAIXA - Programa Bolsa Família</td>\n",
       "      <td>39.00</td>\n",
       "      <td>01/2017</td>\n",
       "    </tr>\n",
       "  </tbody>\n",
       "</table>\n",
       "</div>"
      ],
      "text/plain": [
       "   UF  Código SIAFI Município           Nome Município  Código Função  \\\n",
       "0  BA                    3389       BROTAS DE MACAUBAS              8   \n",
       "1  PE                    2531                   RECIFE              8   \n",
       "2  SP                    6291                 CAMPINAS              8   \n",
       "3  PI                    1167                 PIRIPIRI              8   \n",
       "4  MA                     755               CARUTAPERA              8   \n",
       "5  PE                    2389               CHA GRANDE              8   \n",
       "6  BA                    3765   OLIVEIRA DOS BREJINHOS              8   \n",
       "7  CE                    1585                MARACANAU              8   \n",
       "8  SE                    3191  NOSSA SENHORA DAS DORES              8   \n",
       "9  BA                    3495           CRUZ DAS ALMAS              8   \n",
       "\n",
       "   Código Subfunção  Código Programa  Código Ação  NIS Favorecido  \\\n",
       "0               244             1335         8442     16074176737   \n",
       "1               244             1335         8442     20033347012   \n",
       "2               244             1335         8442     13287063897   \n",
       "3               244             1335         8442     16356178516   \n",
       "4               244             1335         8442     16099396730   \n",
       "5               244             1335         8442     16027702517   \n",
       "6               244             1335         8442     23672637749   \n",
       "7               244             1335         8442     16390347554   \n",
       "8               244             1335         8442     20947248433   \n",
       "9               244             1335         8442     12461489000   \n",
       "\n",
       "                         Nome Favorecido                Fonte-Finalidade  \\\n",
       "0          FLAVIANO SEBASTIAO DOS SANTOS  CAIXA - Programa Bolsa Família   \n",
       "1  ELANE PATRICIA DA SILVA DAMASIO NUNES  CAIXA - Programa Bolsa Família   \n",
       "2               ANGELA APARECIDA SERAFIM  CAIXA - Programa Bolsa Família   \n",
       "3                LUIZA FLORINDA DA SILVA  CAIXA - Programa Bolsa Família   \n",
       "4           EDNA MARIA FERREIRA PINHEIRO  CAIXA - Programa Bolsa Família   \n",
       "5                     ANA MARIA DA SILVA  CAIXA - Programa Bolsa Família   \n",
       "6           IVANILSON DOS SANTOS MACHADO  CAIXA - Programa Bolsa Família   \n",
       "7        MARIA DO SOCORRO ALVES DA SILVA  CAIXA - Programa Bolsa Família   \n",
       "8              MARIA JOSINETE DOS SANTOS  CAIXA - Programa Bolsa Família   \n",
       "9                         JOSEILZA SOUZA  CAIXA - Programa Bolsa Família   \n",
       "\n",
       "  Valor Parcela Mês Competência  \n",
       "0        131.00         01/2017  \n",
       "1        170.00         01/2017  \n",
       "2        202.00         01/2017  \n",
       "3         85.00         01/2017  \n",
       "4         85.00         01/2017  \n",
       "5        124.00         01/2017  \n",
       "6         85.00         01/2017  \n",
       "7        124.00         01/2017  \n",
       "8        163.00         01/2017  \n",
       "9         39.00         01/2017  "
      ]
     },
     "execution_count": 70,
     "metadata": {},
     "output_type": "execute_result"
    }
   ],
   "source": [
    "df.head(10)"
   ]
  },
  {
   "cell_type": "code",
   "execution_count": 71,
   "metadata": {
    "collapsed": false
   },
   "outputs": [
    {
     "name": "stdout",
     "output_type": "stream",
     "text": [
      "Coluna:  UF\n",
      "Coluna:  Código SIAFI Município\n",
      "Coluna:  Nome Município\n",
      "Coluna:  Código Função\n",
      "Coluna:  Código Subfunção\n",
      "Coluna:  Código Programa\n",
      "Coluna:  Código Ação\n",
      "Coluna:  NIS Favorecido\n",
      "Coluna:  Nome Favorecido\n",
      "Coluna:  Fonte-Finalidade\n",
      "Coluna:  Valor Parcela\n",
      "Coluna:  Mês Competência\n"
     ]
    }
   ],
   "source": [
    "for col in df.columns:\n",
    "    print(\"Coluna: \", col)"
   ]
  },
  {
   "cell_type": "code",
   "execution_count": 72,
   "metadata": {
    "collapsed": false
   },
   "outputs": [],
   "source": [
    "df['Regiao'] = None"
   ]
  },
  {
   "cell_type": "code",
   "execution_count": 73,
   "metadata": {
    "collapsed": true
   },
   "outputs": [],
   "source": [
    "# add region name to dataframe \n",
    "def regiao(estado):\n",
    "    if estado in ['MA','PI','CE','RN','PE','PB','SE','AL','BA']:\n",
    "        return 'Nordeste'\n",
    "    elif estado in ['AM', 'RR', 'RO', 'AP', 'TO', 'RO', 'AC']:\n",
    "        return 'Norte'\n",
    "    elif estado in ['MT', 'MS', 'GO', 'DF']:\n",
    "        return 'Centro-Oeste'\n",
    "    elif estado in ['SP', 'RJ', 'ES', 'MG']:\n",
    "        return 'Sudeste'\n",
    "    else:\n",
    "        return 'Sul'"
   ]
  },
  {
   "cell_type": "code",
   "execution_count": 74,
   "metadata": {
    "collapsed": false
   },
   "outputs": [],
   "source": [
    "df['Regiao'] = df['UF'].apply(regiao)"
   ]
  },
  {
   "cell_type": "code",
   "execution_count": 75,
   "metadata": {
    "collapsed": false
   },
   "outputs": [
    {
     "data": {
      "text/plain": [
       "Index(['UF', 'Código SIAFI Município', 'Nome Município', 'Código Função',\n",
       "       'Código Subfunção', 'Código Programa', 'Código Ação', 'NIS Favorecido',\n",
       "       'Nome Favorecido', 'Fonte-Finalidade', 'Valor Parcela',\n",
       "       'Mês Competência', 'Regiao'],\n",
       "      dtype='object')"
      ]
     },
     "execution_count": 75,
     "metadata": {},
     "output_type": "execute_result"
    }
   ],
   "source": [
    "df.columns"
   ]
  },
  {
   "cell_type": "code",
   "execution_count": 76,
   "metadata": {
    "collapsed": false
   },
   "outputs": [],
   "source": [
    "# returning state's name to datafrane\n",
    "def estado(uf):\n",
    "    if uf == 'MA':\n",
    "        return 'Maranhão'\n",
    "    elif uf == 'PI':\n",
    "        return 'Piauí'\n",
    "    elif uf == 'CE':\n",
    "        return 'Ceará'\n",
    "    elif uf == 'BA':\n",
    "        return 'Bahia'\n",
    "    elif uf == 'AL':\n",
    "        return 'Alagoas'\n",
    "    elif uf == 'SE':\n",
    "        return 'Sergipe'\n",
    "    elif uf == 'RN':\n",
    "        return 'Rio Grande do Norte'\n",
    "    elif uf == 'PE':\n",
    "        return 'Pernambuco'\n",
    "    elif uf == 'PB':\n",
    "        return 'Paraíba'\n",
    "    elif uf == 'AM':\n",
    "        return 'Amazonas'\n",
    "    elif uf == 'RR':\n",
    "        return 'Roraima'\n",
    "    elif uf == 'AP':\n",
    "        return 'Amapá'\n",
    "    elif uf == 'PA':\n",
    "        return 'Pará'\n",
    "    elif uf == 'TO':\n",
    "        return 'Tocantins'\n",
    "    elif uf == 'RO':\n",
    "        return 'Rondonia'\n",
    "    elif uf == 'AC':\n",
    "        return 'Acre'\n",
    "    elif uf == 'MT':\n",
    "        return 'Mato Grosso'\n",
    "    elif uf == 'MS':\n",
    "        return 'Mato Grosso do Sul'\n",
    "    elif uf == 'GO':\n",
    "        return 'Goiás'\n",
    "    elif uf == 'SP':\n",
    "        return 'São Paulo'\n",
    "    elif uf == 'RJ':\n",
    "        return 'Rio de Janeiro'\n",
    "    elif uf == 'ES':\n",
    "        return 'Espirito Santo'\n",
    "    elif uf == 'MG':\n",
    "        return 'Minas Gerais'\n",
    "    elif uf == 'PR':\n",
    "        return 'Paraná'\n",
    "    elif uf == 'RS':\n",
    "        return 'Rio Grande do Sul'\n",
    "    elif uf == 'SC':\n",
    "        return 'Santa Catarina'\n",
    "    else:\n",
    "        return ''"
   ]
  },
  {
   "cell_type": "code",
   "execution_count": 77,
   "metadata": {
    "collapsed": true
   },
   "outputs": [],
   "source": [
    "df['Estado'] = df['UF'].apply(estado)"
   ]
  },
  {
   "cell_type": "code",
   "execution_count": 78,
   "metadata": {
    "collapsed": false
   },
   "outputs": [],
   "source": [
    "df['Fonte'] = df['Fonte-Finalidade'].apply(lambda x: x.split('-')[0])\n",
    "df['Finalidade'] = df['Fonte-Finalidade'].apply(lambda x: x.split('-')[1])\n",
    "df.drop('Fonte-Finalidade', axis=1, inplace = True)"
   ]
  },
  {
   "cell_type": "code",
   "execution_count": 81,
   "metadata": {
    "collapsed": false
   },
   "outputs": [
    {
     "data": {
      "text/html": [
       "<div>\n",
       "<table border=\"1\" class=\"dataframe\">\n",
       "  <thead>\n",
       "    <tr style=\"text-align: right;\">\n",
       "      <th></th>\n",
       "      <th>UF</th>\n",
       "      <th>Código SIAFI Município</th>\n",
       "      <th>Nome Município</th>\n",
       "      <th>Código Função</th>\n",
       "      <th>Código Subfunção</th>\n",
       "      <th>Código Programa</th>\n",
       "      <th>Código Ação</th>\n",
       "      <th>NIS Favorecido</th>\n",
       "      <th>Nome Favorecido</th>\n",
       "      <th>Valor Parcela</th>\n",
       "      <th>Mês Competência</th>\n",
       "      <th>Regiao</th>\n",
       "      <th>Estado</th>\n",
       "      <th>Fonte</th>\n",
       "      <th>Finalidade</th>\n",
       "    </tr>\n",
       "  </thead>\n",
       "  <tbody>\n",
       "    <tr>\n",
       "      <th>0</th>\n",
       "      <td>BA</td>\n",
       "      <td>3389</td>\n",
       "      <td>BROTAS DE MACAUBAS</td>\n",
       "      <td>8</td>\n",
       "      <td>244</td>\n",
       "      <td>1335</td>\n",
       "      <td>8442</td>\n",
       "      <td>16074176737</td>\n",
       "      <td>FLAVIANO SEBASTIAO DOS SANTOS</td>\n",
       "      <td>131.00</td>\n",
       "      <td>01/2017</td>\n",
       "      <td>Nordeste</td>\n",
       "      <td>Bahia</td>\n",
       "      <td>CAIXA</td>\n",
       "      <td>Programa Bolsa Família</td>\n",
       "    </tr>\n",
       "    <tr>\n",
       "      <th>1</th>\n",
       "      <td>PE</td>\n",
       "      <td>2531</td>\n",
       "      <td>RECIFE</td>\n",
       "      <td>8</td>\n",
       "      <td>244</td>\n",
       "      <td>1335</td>\n",
       "      <td>8442</td>\n",
       "      <td>20033347012</td>\n",
       "      <td>ELANE PATRICIA DA SILVA DAMASIO NUNES</td>\n",
       "      <td>170.00</td>\n",
       "      <td>01/2017</td>\n",
       "      <td>Nordeste</td>\n",
       "      <td>Pernambuco</td>\n",
       "      <td>CAIXA</td>\n",
       "      <td>Programa Bolsa Família</td>\n",
       "    </tr>\n",
       "    <tr>\n",
       "      <th>2</th>\n",
       "      <td>SP</td>\n",
       "      <td>6291</td>\n",
       "      <td>CAMPINAS</td>\n",
       "      <td>8</td>\n",
       "      <td>244</td>\n",
       "      <td>1335</td>\n",
       "      <td>8442</td>\n",
       "      <td>13287063897</td>\n",
       "      <td>ANGELA APARECIDA SERAFIM</td>\n",
       "      <td>202.00</td>\n",
       "      <td>01/2017</td>\n",
       "      <td>Sudeste</td>\n",
       "      <td>São Paulo</td>\n",
       "      <td>CAIXA</td>\n",
       "      <td>Programa Bolsa Família</td>\n",
       "    </tr>\n",
       "    <tr>\n",
       "      <th>3</th>\n",
       "      <td>PI</td>\n",
       "      <td>1167</td>\n",
       "      <td>PIRIPIRI</td>\n",
       "      <td>8</td>\n",
       "      <td>244</td>\n",
       "      <td>1335</td>\n",
       "      <td>8442</td>\n",
       "      <td>16356178516</td>\n",
       "      <td>LUIZA FLORINDA DA SILVA</td>\n",
       "      <td>85.00</td>\n",
       "      <td>01/2017</td>\n",
       "      <td>Nordeste</td>\n",
       "      <td>Piauí</td>\n",
       "      <td>CAIXA</td>\n",
       "      <td>Programa Bolsa Família</td>\n",
       "    </tr>\n",
       "    <tr>\n",
       "      <th>4</th>\n",
       "      <td>MA</td>\n",
       "      <td>755</td>\n",
       "      <td>CARUTAPERA</td>\n",
       "      <td>8</td>\n",
       "      <td>244</td>\n",
       "      <td>1335</td>\n",
       "      <td>8442</td>\n",
       "      <td>16099396730</td>\n",
       "      <td>EDNA MARIA FERREIRA PINHEIRO</td>\n",
       "      <td>85.00</td>\n",
       "      <td>01/2017</td>\n",
       "      <td>Nordeste</td>\n",
       "      <td>Maranhão</td>\n",
       "      <td>CAIXA</td>\n",
       "      <td>Programa Bolsa Família</td>\n",
       "    </tr>\n",
       "  </tbody>\n",
       "</table>\n",
       "</div>"
      ],
      "text/plain": [
       "   UF  Código SIAFI Município      Nome Município  Código Função  \\\n",
       "0  BA                    3389  BROTAS DE MACAUBAS              8   \n",
       "1  PE                    2531              RECIFE              8   \n",
       "2  SP                    6291            CAMPINAS              8   \n",
       "3  PI                    1167            PIRIPIRI              8   \n",
       "4  MA                     755          CARUTAPERA              8   \n",
       "\n",
       "   Código Subfunção  Código Programa  Código Ação  NIS Favorecido  \\\n",
       "0               244             1335         8442     16074176737   \n",
       "1               244             1335         8442     20033347012   \n",
       "2               244             1335         8442     13287063897   \n",
       "3               244             1335         8442     16356178516   \n",
       "4               244             1335         8442     16099396730   \n",
       "\n",
       "                         Nome Favorecido Valor Parcela Mês Competência  \\\n",
       "0          FLAVIANO SEBASTIAO DOS SANTOS        131.00         01/2017   \n",
       "1  ELANE PATRICIA DA SILVA DAMASIO NUNES        170.00         01/2017   \n",
       "2               ANGELA APARECIDA SERAFIM        202.00         01/2017   \n",
       "3                LUIZA FLORINDA DA SILVA         85.00         01/2017   \n",
       "4           EDNA MARIA FERREIRA PINHEIRO         85.00         01/2017   \n",
       "\n",
       "     Regiao      Estado   Fonte               Finalidade  \n",
       "0  Nordeste       Bahia  CAIXA    Programa Bolsa Família  \n",
       "1  Nordeste  Pernambuco  CAIXA    Programa Bolsa Família  \n",
       "2   Sudeste   São Paulo  CAIXA    Programa Bolsa Família  \n",
       "3  Nordeste       Piauí  CAIXA    Programa Bolsa Família  \n",
       "4  Nordeste    Maranhão  CAIXA    Programa Bolsa Família  "
      ]
     },
     "execution_count": 81,
     "metadata": {},
     "output_type": "execute_result"
    }
   ],
   "source": [
    "df.head()"
   ]
  },
  {
   "cell_type": "code",
   "execution_count": 86,
   "metadata": {
    "collapsed": false
   },
   "outputs": [
    {
     "data": {
      "text/plain": [
       "array(['Nordeste', 'Sudeste', 'Centro-Oeste', 'Sul', 'Norte'], dtype=object)"
      ]
     },
     "execution_count": 86,
     "metadata": {},
     "output_type": "execute_result"
    }
   ],
   "source": [
    "df['Estado'].unique()\n",
    "df['Regiao'].unique()"
   ]
  },
  {
   "cell_type": "code",
   "execution_count": 93,
   "metadata": {
    "collapsed": false
   },
   "outputs": [
    {
     "data": {
      "text/plain": [
       "2531"
      ]
     },
     "execution_count": 93,
     "metadata": {},
     "output_type": "execute_result"
    }
   ],
   "source": [
    "df[df['Nome Município'] == 'RECIFE']['Código SIAFI Município'].unique()[0]"
   ]
  },
  {
   "cell_type": "code",
   "execution_count": 95,
   "metadata": {
    "collapsed": false
   },
   "outputs": [
    {
     "data": {
      "text/plain": [
       "UF                        False\n",
       "Código SIAFI Município    False\n",
       "Nome Município            False\n",
       "Código Função             False\n",
       "Código Subfunção          False\n",
       "Código Programa           False\n",
       "Código Ação               False\n",
       "NIS Favorecido            False\n",
       "Nome Favorecido           False\n",
       "Valor Parcela             False\n",
       "Mês Competência           False\n",
       "Regiao                    False\n",
       "Estado                    False\n",
       "Fonte                     False\n",
       "Finalidade                False\n",
       "dtype: bool"
      ]
     },
     "execution_count": 95,
     "metadata": {},
     "output_type": "execute_result"
    }
   ],
   "source": [
    "df.isnull()"
   ]
  },
  {
   "cell_type": "code",
   "execution_count": null,
   "metadata": {
    "collapsed": true
   },
   "outputs": [],
   "source": []
  }
 ],
 "metadata": {
  "kernelspec": {
   "display_name": "Python 3",
   "language": "python",
   "name": "python3"
  },
  "language_info": {
   "codemirror_mode": {
    "name": "ipython",
    "version": 3
   },
   "file_extension": ".py",
   "mimetype": "text/x-python",
   "name": "python",
   "nbconvert_exporter": "python",
   "pygments_lexer": "ipython3",
   "version": "3.6.0"
  }
 },
 "nbformat": 4,
 "nbformat_minor": 2
}
